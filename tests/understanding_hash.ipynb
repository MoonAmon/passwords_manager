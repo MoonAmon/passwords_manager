{
 "cells": [
  {
   "cell_type": "code",
   "execution_count": 7,
   "id": "initial_id",
   "metadata": {
    "collapsed": true,
    "ExecuteTime": {
     "end_time": "2023-12-26T13:22:29.146176900Z",
     "start_time": "2023-12-26T13:22:29.134754Z"
    }
   },
   "outputs": [],
   "source": [
    "import os\n",
    "import hashlib\n",
    "import base64\n",
    "import sqlite3\n",
    "from cryptography.fernet import Fernet\n",
    "from cryptography.hazmat.primitives import hashes\n",
    "from cryptography.hazmat.primitives.kdf.pbkdf2 import PBKDF2HMAC\n",
    "from cryptography.hazmat.backends import default_backend\n",
    "\n"
   ]
  },
  {
   "cell_type": "code",
   "outputs": [],
   "source": [
    "master_key = 'marcilene123'\n",
    "salt = os.urandom(32)\n",
    "kdf = PBKDF2HMAC(\n",
    "    algorithm=hashes.SHA256(),\n",
    "    length=32,\n",
    "    salt=salt,\n",
    "    iterations=100000,\n",
    "    backend=default_backend()\n",
    ")\n",
    "key = base64.urlsafe_b64decode(kdf.derive(master_key.encode()))"
   ],
   "metadata": {
    "collapsed": false,
    "ExecuteTime": {
     "end_time": "2023-12-26T13:11:20.973219100Z",
     "start_time": "2023-12-26T13:11:20.904971Z"
    }
   },
   "id": "799b34e4eef70172",
   "execution_count": 4
  },
  {
   "cell_type": "code",
   "outputs": [],
   "source": [
    "def set_master_key(key_str):\n",
    "    master_key_hash = hashlib.sha256(key_str.encode()).hexdigest()\n",
    "    return master_key_hash"
   ],
   "metadata": {
    "collapsed": false,
    "ExecuteTime": {
     "end_time": "2023-12-26T13:28:06.835715800Z",
     "start_time": "2023-12-26T13:28:06.820182700Z"
    }
   },
   "id": "ce2327599a14299a",
   "execution_count": 21
  },
  {
   "cell_type": "code",
   "outputs": [
    {
     "name": "stdout",
     "output_type": "stream",
     "text": [
      "f3fc4ac6d383b8759ce7f473ce9fdee4ef971bd1f9d4c6bb770bb1339b672761\n"
     ]
    }
   ],
   "source": [
    "hash_key = set_master_key(master_key)\n",
    "print(hash_key)"
   ],
   "metadata": {
    "collapsed": false,
    "ExecuteTime": {
     "end_time": "2023-12-26T13:28:09.126741100Z",
     "start_time": "2023-12-26T13:28:09.108877500Z"
    }
   },
   "id": "8cc232a7c2568215",
   "execution_count": 22
  }
 ],
 "metadata": {
  "kernelspec": {
   "display_name": "Python 3",
   "language": "python",
   "name": "python3"
  },
  "language_info": {
   "codemirror_mode": {
    "name": "ipython",
    "version": 2
   },
   "file_extension": ".py",
   "mimetype": "text/x-python",
   "name": "python",
   "nbconvert_exporter": "python",
   "pygments_lexer": "ipython2",
   "version": "2.7.6"
  }
 },
 "nbformat": 4,
 "nbformat_minor": 5
}
